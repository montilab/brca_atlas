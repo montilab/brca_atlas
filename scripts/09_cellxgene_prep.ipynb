{
 "cells": [
  {
   "cell_type": "code",
   "execution_count": 43,
   "id": "1b7945b6-985b-41d2-93e7-90bbd1799b87",
   "metadata": {
    "tags": []
   },
   "outputs": [],
   "source": [
    "import scanpy as sc\n",
    "import anndata as ad\n",
    "import numpy as np\n",
    "import pandas as pd\n",
    "import pandas.testing as tm\n",
    "import os\n",
    "PATH = os.path.join(os.getenv(\"MLAB\"), \"projects/brcameta/brca_atlas\")"
   ]
  },
  {
   "cell_type": "code",
   "execution_count": 2,
   "id": "06ce11a7-257d-46a1-bf99-d11a71992220",
   "metadata": {},
   "outputs": [],
   "source": [
    "imm = sc.read_h5ad(os.path.join(PATH, \"data/sc/imm_cellxgene.h5ad\"))\n",
    "epi = sc.read_h5ad(os.path.join(PATH, \"data/sc/epi_cellxgene.h5ad\"))\n",
    "strom = sc.read_h5ad(os.path.join(PATH, \"data/sc/strom_cellxgene.h5ad\"))\n",
    "rpca_embedding = pd.read_csv(os.path.join(PATH, \"data/embeddings/all/rpca_embedding_combined.csv\"), index_col = 0)"
   ]
  },
  {
   "cell_type": "markdown",
   "id": "b009f152-386d-4603-b2f2-bd7fdcc89536",
   "metadata": {},
   "source": [
    "## Cleaning Anndata slots"
   ]
  },
  {
   "cell_type": "code",
   "execution_count": 15,
   "id": "69a194a6-f1c5-47d4-b1fa-ba421173f569",
   "metadata": {
    "tags": []
   },
   "outputs": [],
   "source": [
    "strom.var = strom.var.drop(strom.var.columns, axis='columns')\n",
    "imm.var = imm.var.drop(imm.var.columns, axis='columns')\n",
    "epi.var = epi.var.drop(epi.var.columns, axis='columns')"
   ]
  },
  {
   "cell_type": "code",
   "execution_count": 22,
   "id": "da124c10-9d49-471b-acc3-d233bf952bd5",
   "metadata": {
    "tags": []
   },
   "outputs": [],
   "source": [
    "strom.obsm['X_umap'] = strom.obsm['X_umap.rpca']\n",
    "imm.obsm['X_umap'] = imm.obsm['X_umap.rpca'] \n",
    "epi.obsm['X_umap'] = epi.obsm['X_umap.rpca']\n",
    "del(strom.obsm['X_umap.rpca'])\n",
    "del(imm.obsm['X_umap.rpca'])\n",
    "del(epi.obsm['X_umap.rpca'])"
   ]
  },
  {
   "cell_type": "code",
   "execution_count": 100,
   "id": "679e9c12-0bbf-43fe-ad62-add081cc2836",
   "metadata": {
    "tags": []
   },
   "outputs": [],
   "source": [
    "strom.uns[\"title\"] = \"Stromal Compartment\"\n",
    "strom.uns[\"batch_condition\"] = \"batch\"\n",
    "strom.uns[\"default_embedding\"] = \"X_umap\"\n",
    "imm.uns[\"title\"] = \"Immune Compartment\"\n",
    "imm.uns[\"batch_condition\"] = \"batch\"\n",
    "imm.uns[\"default_embedding\"] = \"X_umap\"\n",
    "epi.uns[\"title\"] = \"Epithelial Compartment\"\n",
    "epi.uns[\"batch_condition\"] = \"batch\"\n",
    "epi.uns[\"default_embedding\"] = \"X_umap\""
   ]
  },
  {
   "cell_type": "code",
   "execution_count": 90,
   "id": "b7512e62-77e7-47a5-b98e-2b27c65863aa",
   "metadata": {
    "tags": []
   },
   "outputs": [],
   "source": [
    "strom_rpca_embedding = rpca_embedding.loc[strom.obs_names] \n",
    "imm_rpca_embedding = rpca_embedding.loc[imm.obs_names]\n",
    "epi_rpca_embedding = rpca_embedding.loc[epi.obs_names]"
   ]
  },
  {
   "cell_type": "code",
   "execution_count": 91,
   "id": "da20b572-80de-4816-bd15-15165cb89b23",
   "metadata": {
    "tags": []
   },
   "outputs": [],
   "source": [
    "strom.obsm['X_rpca'] = strom_rpca_embedding\n",
    "imm.obsm['X_rpca'] = imm_rpca_embedding\n",
    "epi.obsm['X_rpca'] = epi_rpca_embedding"
   ]
  },
  {
   "cell_type": "code",
   "execution_count": 35,
   "id": "970d096e-6fa2-4f85-a086-a22897d93a31",
   "metadata": {},
   "outputs": [],
   "source": [
    "tm.assert_index_equal(imm.var_names, strom.var_names)\n",
    "tm.assert_index_equal(epi.var_names, strom.var_names)\n",
    "tm.assert_index_equal(epi.var_names, imm.var_names)"
   ]
  },
  {
   "cell_type": "markdown",
   "id": "c7cba087-ac5b-4dca-a734-5fd39c11ecc6",
   "metadata": {},
   "source": [
    "## Merged Anndata"
   ]
  },
  {
   "cell_type": "code",
   "execution_count": 44,
   "id": "2311a1ef-8464-4b69-91a1-af7afbbba578",
   "metadata": {
    "tags": []
   },
   "outputs": [],
   "source": [
    "combined_adata = ad.concat([epi, imm, strom], join = 'inner')"
   ]
  },
  {
   "cell_type": "code",
   "execution_count": 46,
   "id": "76ddd1ea-3de1-4c0d-a63e-0e2e094e7418",
   "metadata": {
    "tags": []
   },
   "outputs": [],
   "source": [
    "tm.assert_index_equal(combined_adata.var_names, imm.var_names)"
   ]
  },
  {
   "cell_type": "code",
   "execution_count": 66,
   "id": "502b8e35-fcf0-49a6-95d7-206452964fae",
   "metadata": {
    "tags": []
   },
   "outputs": [],
   "source": [
    "rpca_umap = pd.read_csv(os.path.join(PATH, \"data/embeddings/all/rpca_umap.csv\"), index_col = 0)\n",
    "rpca_embedding = rpca_embedding.loc[combined_adata.obs_names]\n",
    "rpca_umap = rpca_umap.loc[combined_adata.obs_names]"
   ]
  },
  {
   "cell_type": "code",
   "execution_count": 70,
   "id": "bcfd77d9-fcb2-4707-bca2-e82d3f1eda18",
   "metadata": {
    "tags": []
   },
   "outputs": [],
   "source": [
    "combined_adata.obsm[\"X_umap\"] = rpca_umap\n",
    "combined_adata.obsm[\"X_rpca\"] = rpca_embedding"
   ]
  },
  {
   "cell_type": "code",
   "execution_count": 99,
   "id": "3ed84fe1-8499-45f8-a2f7-a2f33e3dc614",
   "metadata": {
    "tags": []
   },
   "outputs": [],
   "source": [
    "combined_adata.uns[\"title\"] = \"Global Atlas\"\n",
    "combined_adata.uns[\"batch_condition\"] = \"batch\"\n",
    "combined_adata.uns[\"default_embedding\"] = \"X_umap\""
   ]
  },
  {
   "cell_type": "markdown",
   "id": "cf88af44-08aa-4c1e-a7e6-59aa4d1af98b",
   "metadata": {},
   "source": [
    "## Saving"
   ]
  },
  {
   "cell_type": "code",
   "execution_count": 105,
   "id": "5693d9c6-e3a4-49c6-81b7-17b877bc17f0",
   "metadata": {
    "tags": []
   },
   "outputs": [],
   "source": [
    "imm.write_h5ad(os.path.join(PATH, \"data/sc/imm_cellxgene.h5ad\"))\n",
    "epi.write_h5ad(os.path.join(PATH, \"data/sc/epi_cellxgene.h5ad\"))\n",
    "strom.write_h5ad(os.path.join(PATH, \"data/sc/strom_cellxgene.h5ad\"))\n",
    "combined_adata.write_h5ad(os.path.join(PATH, \"data/sc/all_cellxgene.h5ad\"))"
   ]
  }
 ],
 "metadata": {
  "kernelspec": {
   "display_name": "scib",
   "language": "python",
   "name": "scib"
  },
  "language_info": {
   "codemirror_mode": {
    "name": "ipython",
    "version": 3
   },
   "file_extension": ".py",
   "mimetype": "text/x-python",
   "name": "python",
   "nbconvert_exporter": "python",
   "pygments_lexer": "ipython3",
   "version": "3.9.19"
  }
 },
 "nbformat": 4,
 "nbformat_minor": 5
}
